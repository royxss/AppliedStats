{
 "cells": [
  {
   "cell_type": "markdown",
   "metadata": {},
   "source": [
    "### YPLL"
   ]
  },
  {
   "cell_type": "code",
   "execution_count": 1,
   "metadata": {
    "collapsed": true
   },
   "outputs": [],
   "source": [
    "setwd(\"C:\\\\Users\\\\SROY\\\\Desktop\\\\Courses\\\\Applied Stats\\\\Project\")\n",
    "rm(list=ls())\n",
    "seedVal = 17869\n",
    "options(warn=-1)\n",
    "options(scipen=999)"
   ]
  },
  {
   "cell_type": "code",
   "execution_count": 19,
   "metadata": {},
   "outputs": [
    {
     "name": "stderr",
     "output_type": "stream",
     "text": [
      "Loading required package: Hmisc\n",
      "Loading required package: lattice\n",
      "Loading required package: survival\n",
      "Loading required package: Formula\n",
      "\n",
      "Attaching package: 'Hmisc'\n",
      "\n",
      "The following objects are masked from 'package:base':\n",
      "\n",
      "    format.pval, round.POSIXt, trunc.POSIXt, units\n",
      "\n",
      "Loading required package: SparseM\n",
      "\n",
      "Attaching package: 'SparseM'\n",
      "\n",
      "The following object is masked from 'package:base':\n",
      "\n",
      "    backsolve\n",
      "\n"
     ]
    }
   ],
   "source": [
    "# Libraries\n",
    "library(ggplot2)\n",
    "library(ggcorrplot)\n",
    "library(dummies)\n",
    "library(rms)"
   ]
  },
  {
   "cell_type": "code",
   "execution_count": 3,
   "metadata": {
    "collapsed": true
   },
   "outputs": [],
   "source": [
    "measures <- read.csv2(\"additional_measures_cleaned.csv\", header = TRUE, sep = ',')\n",
    "ypll <- read.csv2(\"ypll.csv\", header = TRUE, sep = ',')"
   ]
  },
  {
   "cell_type": "code",
   "execution_count": 4,
   "metadata": {},
   "outputs": [
    {
     "data": {
      "text/html": [
       "<table>\n",
       "<thead><tr><th scope=col>FIPS</th><th scope=col>State</th><th scope=col>County</th><th scope=col>Population</th><th scope=col>X..18</th><th scope=col>X65.and.over</th><th scope=col>African.American</th><th scope=col>Female</th><th scope=col>Rural</th><th scope=col>X.Diabetes</th><th scope=col>HIV.rate</th><th scope=col>Physical.Inactivity</th><th scope=col>mental.health.provider.rate</th><th scope=col>median.household.income</th><th scope=col>X..high.housing.costs</th><th scope=col>X..Free.lunch</th><th scope=col>X..child.Illiteracy</th><th scope=col>X..Drive.Alone</th></tr></thead>\n",
       "<tbody>\n",
       "\t<tr><td>1000   </td><td>Alabama</td><td>       </td><td>4708708</td><td>23.9   </td><td>13.8   </td><td>26.1   </td><td>51.6   </td><td>44.6   </td><td>12     </td><td> NA    </td><td>31     </td><td>20     </td><td>42586  </td><td>30     </td><td>51     </td><td>14.8   </td><td>84     </td></tr>\n",
       "\t<tr><td>1001   </td><td>Alabama</td><td>Autauga</td><td>  50756</td><td>27.8   </td><td>11.6   </td><td>18.4   </td><td>51.4   </td><td>44.8   </td><td>11     </td><td>170    </td><td>33     </td><td> 2     </td><td>51622  </td><td>25     </td><td>29     </td><td>12.7   </td><td>86     </td></tr>\n",
       "\t<tr><td>1003   </td><td>Alabama</td><td>Baldwin</td><td> 179878</td><td>23.1   </td><td>17     </td><td>10     </td><td>51     </td><td>54.2   </td><td>10     </td><td>176    </td><td>25     </td><td>17     </td><td>51957  </td><td>29     </td><td>29     </td><td>10.6   </td><td>83     </td></tr>\n",
       "\t<tr><td>1005   </td><td>Alabama</td><td>Barbour</td><td>  29737</td><td>22.3   </td><td>13.8   </td><td>46.6   </td><td>46.8   </td><td>71.5   </td><td>14     </td><td>331    </td><td>35     </td><td> 7     </td><td>30896  </td><td>36     </td><td>65     </td><td>23.2   </td><td>82     </td></tr>\n",
       "\t<tr><td>1007   </td><td>Alabama</td><td>Bibb   </td><td>  21587</td><td>23.3   </td><td>13.5   </td><td>22.3   </td><td>48     </td><td>81.5   </td><td>11     </td><td> 90    </td><td>37     </td><td> 0     </td><td>41076  </td><td>18     </td><td>48     </td><td>17.5   </td><td>83     </td></tr>\n",
       "\t<tr><td>1009   </td><td>Alabama</td><td>Blount </td><td>  58345</td><td>24.2   </td><td>14.7   </td><td>2.1    </td><td>50.2   </td><td>91     </td><td>11     </td><td> 66    </td><td>35     </td><td> 2     </td><td>46086  </td><td>21     </td><td>37     </td><td>13.9   </td><td>80     </td></tr>\n",
       "</tbody>\n",
       "</table>\n"
      ],
      "text/latex": [
       "\\begin{tabular}{r|llllllllllllllllll}\n",
       " FIPS & State & County & Population & X..18 & X65.and.over & African.American & Female & Rural & X.Diabetes & HIV.rate & Physical.Inactivity & mental.health.provider.rate & median.household.income & X..high.housing.costs & X..Free.lunch & X..child.Illiteracy & X..Drive.Alone\\\\\n",
       "\\hline\n",
       "\t 1000    & Alabama &         & 4708708 & 23.9    & 13.8    & 26.1    & 51.6    & 44.6    & 12      &  NA     & 31      & 20      & 42586   & 30      & 51      & 14.8    & 84     \\\\\n",
       "\t 1001    & Alabama & Autauga &   50756 & 27.8    & 11.6    & 18.4    & 51.4    & 44.8    & 11      & 170     & 33      &  2      & 51622   & 25      & 29      & 12.7    & 86     \\\\\n",
       "\t 1003    & Alabama & Baldwin &  179878 & 23.1    & 17      & 10      & 51      & 54.2    & 10      & 176     & 25      & 17      & 51957   & 29      & 29      & 10.6    & 83     \\\\\n",
       "\t 1005    & Alabama & Barbour &   29737 & 22.3    & 13.8    & 46.6    & 46.8    & 71.5    & 14      & 331     & 35      &  7      & 30896   & 36      & 65      & 23.2    & 82     \\\\\n",
       "\t 1007    & Alabama & Bibb    &   21587 & 23.3    & 13.5    & 22.3    & 48      & 81.5    & 11      &  90     & 37      &  0      & 41076   & 18      & 48      & 17.5    & 83     \\\\\n",
       "\t 1009    & Alabama & Blount  &   58345 & 24.2    & 14.7    & 2.1     & 50.2    & 91      & 11      &  66     & 35      &  2      & 46086   & 21      & 37      & 13.9    & 80     \\\\\n",
       "\\end{tabular}\n"
      ],
      "text/markdown": [
       "\n",
       "FIPS | State | County | Population | X..18 | X65.and.over | African.American | Female | Rural | X.Diabetes | HIV.rate | Physical.Inactivity | mental.health.provider.rate | median.household.income | X..high.housing.costs | X..Free.lunch | X..child.Illiteracy | X..Drive.Alone | \n",
       "|---|---|---|---|---|---|\n",
       "| 1000    | Alabama |         | 4708708 | 23.9    | 13.8    | 26.1    | 51.6    | 44.6    | 12      |  NA     | 31      | 20      | 42586   | 30      | 51      | 14.8    | 84      | \n",
       "| 1001    | Alabama | Autauga |   50756 | 27.8    | 11.6    | 18.4    | 51.4    | 44.8    | 11      | 170     | 33      |  2      | 51622   | 25      | 29      | 12.7    | 86      | \n",
       "| 1003    | Alabama | Baldwin |  179878 | 23.1    | 17      | 10      | 51      | 54.2    | 10      | 176     | 25      | 17      | 51957   | 29      | 29      | 10.6    | 83      | \n",
       "| 1005    | Alabama | Barbour |   29737 | 22.3    | 13.8    | 46.6    | 46.8    | 71.5    | 14      | 331     | 35      |  7      | 30896   | 36      | 65      | 23.2    | 82      | \n",
       "| 1007    | Alabama | Bibb    |   21587 | 23.3    | 13.5    | 22.3    | 48      | 81.5    | 11      |  90     | 37      |  0      | 41076   | 18      | 48      | 17.5    | 83      | \n",
       "| 1009    | Alabama | Blount  |   58345 | 24.2    | 14.7    | 2.1     | 50.2    | 91      | 11      |  66     | 35      |  2      | 46086   | 21      | 37      | 13.9    | 80      | \n",
       "\n",
       "\n"
      ],
      "text/plain": [
       "  FIPS State   County  Population X..18 X65.and.over African.American Female\n",
       "1 1000 Alabama         4708708    23.9  13.8         26.1             51.6  \n",
       "2 1001 Alabama Autauga   50756    27.8  11.6         18.4             51.4  \n",
       "3 1003 Alabama Baldwin  179878    23.1  17           10               51    \n",
       "4 1005 Alabama Barbour   29737    22.3  13.8         46.6             46.8  \n",
       "5 1007 Alabama Bibb      21587    23.3  13.5         22.3             48    \n",
       "6 1009 Alabama Blount    58345    24.2  14.7         2.1              50.2  \n",
       "  Rural X.Diabetes HIV.rate Physical.Inactivity mental.health.provider.rate\n",
       "1 44.6  12          NA      31                  20                         \n",
       "2 44.8  11         170      33                   2                         \n",
       "3 54.2  10         176      25                  17                         \n",
       "4 71.5  14         331      35                   7                         \n",
       "5 81.5  11          90      37                   0                         \n",
       "6 91    11          66      35                   2                         \n",
       "  median.household.income X..high.housing.costs X..Free.lunch\n",
       "1 42586                   30                    51           \n",
       "2 51622                   25                    29           \n",
       "3 51957                   29                    29           \n",
       "4 30896                   36                    65           \n",
       "5 41076                   18                    48           \n",
       "6 46086                   21                    37           \n",
       "  X..child.Illiteracy X..Drive.Alone\n",
       "1 14.8                84            \n",
       "2 12.7                86            \n",
       "3 10.6                83            \n",
       "4 23.2                82            \n",
       "5 17.5                83            \n",
       "6 13.9                80            "
      ]
     },
     "metadata": {},
     "output_type": "display_data"
    }
   ],
   "source": [
    "head(measures)"
   ]
  },
  {
   "cell_type": "code",
   "execution_count": 5,
   "metadata": {},
   "outputs": [
    {
     "data": {
      "text/html": [
       "<table>\n",
       "<thead><tr><th scope=col>FIPS</th><th scope=col>State</th><th scope=col>County</th><th scope=col>Unreliable</th><th scope=col>YPLL.Rate</th></tr></thead>\n",
       "<tbody>\n",
       "\t<tr><td>1000   </td><td>Alabama</td><td>       </td><td>       </td><td>10189  </td></tr>\n",
       "\t<tr><td>1001   </td><td>Alabama</td><td>Autauga</td><td>       </td><td> 9967  </td></tr>\n",
       "\t<tr><td>1003   </td><td>Alabama</td><td>Baldwin</td><td>       </td><td> 8322  </td></tr>\n",
       "\t<tr><td>1005   </td><td>Alabama</td><td>Barbour</td><td>       </td><td> 9559  </td></tr>\n",
       "\t<tr><td>1007   </td><td>Alabama</td><td>Bibb   </td><td>       </td><td>13283  </td></tr>\n",
       "\t<tr><td>1009   </td><td>Alabama</td><td>Blount </td><td>       </td><td> 8475  </td></tr>\n",
       "</tbody>\n",
       "</table>\n"
      ],
      "text/latex": [
       "\\begin{tabular}{r|lllll}\n",
       " FIPS & State & County & Unreliable & YPLL.Rate\\\\\n",
       "\\hline\n",
       "\t 1000    & Alabama &         &         & 10189  \\\\\n",
       "\t 1001    & Alabama & Autauga &         &  9967  \\\\\n",
       "\t 1003    & Alabama & Baldwin &         &  8322  \\\\\n",
       "\t 1005    & Alabama & Barbour &         &  9559  \\\\\n",
       "\t 1007    & Alabama & Bibb    &         & 13283  \\\\\n",
       "\t 1009    & Alabama & Blount  &         &  8475  \\\\\n",
       "\\end{tabular}\n"
      ],
      "text/markdown": [
       "\n",
       "FIPS | State | County | Unreliable | YPLL.Rate | \n",
       "|---|---|---|---|---|---|\n",
       "| 1000    | Alabama |         |         | 10189   | \n",
       "| 1001    | Alabama | Autauga |         |  9967   | \n",
       "| 1003    | Alabama | Baldwin |         |  8322   | \n",
       "| 1005    | Alabama | Barbour |         |  9559   | \n",
       "| 1007    | Alabama | Bibb    |         | 13283   | \n",
       "| 1009    | Alabama | Blount  |         |  8475   | \n",
       "\n",
       "\n"
      ],
      "text/plain": [
       "  FIPS State   County  Unreliable YPLL.Rate\n",
       "1 1000 Alabama                    10189    \n",
       "2 1001 Alabama Autauga             9967    \n",
       "3 1003 Alabama Baldwin             8322    \n",
       "4 1005 Alabama Barbour             9559    \n",
       "5 1007 Alabama Bibb               13283    \n",
       "6 1009 Alabama Blount              8475    "
      ]
     },
     "metadata": {},
     "output_type": "display_data"
    }
   ],
   "source": [
    "head(ypll)"
   ]
  },
  {
   "cell_type": "code",
   "execution_count": 6,
   "metadata": {
    "collapsed": true
   },
   "outputs": [],
   "source": [
    "df <- merge(x = ypll, y = measures, by.x = c(\"FIPS\"), by.y = c(\"FIPS\"))"
   ]
  },
  {
   "cell_type": "code",
   "execution_count": 7,
   "metadata": {},
   "outputs": [
    {
     "data": {
      "text/html": [
       "<dl class=dl-horizontal>\n",
       "\t<dt>FIPS</dt>\n",
       "\t\t<dd>0</dd>\n",
       "\t<dt>State.x</dt>\n",
       "\t\t<dd>0</dd>\n",
       "\t<dt>County.x</dt>\n",
       "\t\t<dd>51</dd>\n",
       "\t<dt>Unreliable</dt>\n",
       "\t\t<dd>2996</dd>\n",
       "\t<dt>YPLL.Rate</dt>\n",
       "\t\t<dd>95</dd>\n",
       "\t<dt>State.y</dt>\n",
       "\t\t<dd>0</dd>\n",
       "\t<dt>County.y</dt>\n",
       "\t\t<dd>51</dd>\n",
       "\t<dt>Population</dt>\n",
       "\t\t<dd>0</dd>\n",
       "\t<dt>X..18</dt>\n",
       "\t\t<dd>0</dd>\n",
       "\t<dt>X65.and.over</dt>\n",
       "\t\t<dd>0</dd>\n",
       "\t<dt>African.American</dt>\n",
       "\t\t<dd>0</dd>\n",
       "\t<dt>Female</dt>\n",
       "\t\t<dd>0</dd>\n",
       "\t<dt>Rural</dt>\n",
       "\t\t<dd>1</dd>\n",
       "\t<dt>X.Diabetes</dt>\n",
       "\t\t<dd>0</dd>\n",
       "\t<dt>HIV.rate</dt>\n",
       "\t\t<dd>962</dd>\n",
       "\t<dt>Physical.Inactivity</dt>\n",
       "\t\t<dd>0</dd>\n",
       "\t<dt>mental.health.provider.rate</dt>\n",
       "\t\t<dd>0</dd>\n",
       "\t<dt>median.household.income</dt>\n",
       "\t\t<dd>1</dd>\n",
       "\t<dt>X..high.housing.costs</dt>\n",
       "\t\t<dd>0</dd>\n",
       "\t<dt>X..Free.lunch</dt>\n",
       "\t\t<dd>19</dd>\n",
       "\t<dt>X..child.Illiteracy</dt>\n",
       "\t\t<dd>6</dd>\n",
       "\t<dt>X..Drive.Alone</dt>\n",
       "\t\t<dd>0</dd>\n",
       "</dl>\n"
      ],
      "text/latex": [
       "\\begin{description*}\n",
       "\\item[FIPS] 0\n",
       "\\item[State.x] 0\n",
       "\\item[County.x] 51\n",
       "\\item[Unreliable] 2996\n",
       "\\item[YPLL.Rate] 95\n",
       "\\item[State.y] 0\n",
       "\\item[County.y] 51\n",
       "\\item[Population] 0\n",
       "\\item[X..18] 0\n",
       "\\item[X65.and.over] 0\n",
       "\\item[African.American] 0\n",
       "\\item[Female] 0\n",
       "\\item[Rural] 1\n",
       "\\item[X.Diabetes] 0\n",
       "\\item[HIV.rate] 962\n",
       "\\item[Physical.Inactivity] 0\n",
       "\\item[mental.health.provider.rate] 0\n",
       "\\item[median.household.income] 1\n",
       "\\item[X..high.housing.costs] 0\n",
       "\\item[X..Free.lunch] 19\n",
       "\\item[X..child.Illiteracy] 6\n",
       "\\item[X..Drive.Alone] 0\n",
       "\\end{description*}\n"
      ],
      "text/markdown": [
       "FIPS\n",
       ":   0State.x\n",
       ":   0County.x\n",
       ":   51Unreliable\n",
       ":   2996YPLL.Rate\n",
       ":   95State.y\n",
       ":   0County.y\n",
       ":   51Population\n",
       ":   0X..18\n",
       ":   0X65.and.over\n",
       ":   0African.American\n",
       ":   0Female\n",
       ":   0Rural\n",
       ":   1X.Diabetes\n",
       ":   0HIV.rate\n",
       ":   962Physical.Inactivity\n",
       ":   0mental.health.provider.rate\n",
       ":   0median.household.income\n",
       ":   1X..high.housing.costs\n",
       ":   0X..Free.lunch\n",
       ":   19X..child.Illiteracy\n",
       ":   6X..Drive.Alone\n",
       ":   0\n",
       "\n"
      ],
      "text/plain": [
       "                       FIPS                     State.x \n",
       "                          0                           0 \n",
       "                   County.x                  Unreliable \n",
       "                         51                        2996 \n",
       "                  YPLL.Rate                     State.y \n",
       "                         95                           0 \n",
       "                   County.y                  Population \n",
       "                         51                           0 \n",
       "                      X..18                X65.and.over \n",
       "                          0                           0 \n",
       "           African.American                      Female \n",
       "                          0                           0 \n",
       "                      Rural                  X.Diabetes \n",
       "                          1                           0 \n",
       "                   HIV.rate         Physical.Inactivity \n",
       "                        962                           0 \n",
       "mental.health.provider.rate     median.household.income \n",
       "                          0                           1 \n",
       "      X..high.housing.costs               X..Free.lunch \n",
       "                          0                          19 \n",
       "        X..child.Illiteracy              X..Drive.Alone \n",
       "                          6                           0 "
      ]
     },
     "metadata": {},
     "output_type": "display_data"
    }
   ],
   "source": [
    "apply(df, 2, function(x) length(which(x == \"\" | is.na(x) | x == \"NA\")))"
   ]
  },
  {
   "cell_type": "code",
   "execution_count": 8,
   "metadata": {
    "collapsed": true
   },
   "outputs": [],
   "source": [
    "# remove records that are unreliable\n",
    "df <- df[df$Unreliable != 'x',names(df) != 'Unreliable']\n",
    "# Remove cumulative records\n",
    "df <- df[df$County.x != '',]\n",
    "# Remove missing YPLL rate as it does not add value and \n",
    "# doesn't make sense to impute it as it is the target variable\n",
    "df <- df[!is.na(df$YPLL.Rate),]\n",
    "# Remove missing Rural, X.free.lunch and X..chile.Illiteracy as they are few\n",
    "# removing 1 rural also removes free lunch and child illiteracy \n",
    "df <- df[!df$Rural == '',]\n",
    "df <- df[!df$X..child.Illiteracy == '',]\n",
    "df <- df[!is.na(df$X..Free.lunch),]"
   ]
  },
  {
   "cell_type": "code",
   "execution_count": 9,
   "metadata": {},
   "outputs": [
    {
     "data": {
      "text/html": [
       "<dl class=dl-horizontal>\n",
       "\t<dt>FIPS</dt>\n",
       "\t\t<dd>0</dd>\n",
       "\t<dt>State.x</dt>\n",
       "\t\t<dd>0</dd>\n",
       "\t<dt>County.x</dt>\n",
       "\t\t<dd>0</dd>\n",
       "\t<dt>YPLL.Rate</dt>\n",
       "\t\t<dd>0</dd>\n",
       "\t<dt>State.y</dt>\n",
       "\t\t<dd>0</dd>\n",
       "\t<dt>County.y</dt>\n",
       "\t\t<dd>0</dd>\n",
       "\t<dt>Population</dt>\n",
       "\t\t<dd>0</dd>\n",
       "\t<dt>X..18</dt>\n",
       "\t\t<dd>0</dd>\n",
       "\t<dt>X65.and.over</dt>\n",
       "\t\t<dd>0</dd>\n",
       "\t<dt>African.American</dt>\n",
       "\t\t<dd>0</dd>\n",
       "\t<dt>Female</dt>\n",
       "\t\t<dd>0</dd>\n",
       "\t<dt>Rural</dt>\n",
       "\t\t<dd>0</dd>\n",
       "\t<dt>X.Diabetes</dt>\n",
       "\t\t<dd>0</dd>\n",
       "\t<dt>HIV.rate</dt>\n",
       "\t\t<dd>625</dd>\n",
       "\t<dt>Physical.Inactivity</dt>\n",
       "\t\t<dd>0</dd>\n",
       "\t<dt>mental.health.provider.rate</dt>\n",
       "\t\t<dd>0</dd>\n",
       "\t<dt>median.household.income</dt>\n",
       "\t\t<dd>0</dd>\n",
       "\t<dt>X..high.housing.costs</dt>\n",
       "\t\t<dd>0</dd>\n",
       "\t<dt>X..Free.lunch</dt>\n",
       "\t\t<dd>0</dd>\n",
       "\t<dt>X..child.Illiteracy</dt>\n",
       "\t\t<dd>0</dd>\n",
       "\t<dt>X..Drive.Alone</dt>\n",
       "\t\t<dd>0</dd>\n",
       "</dl>\n"
      ],
      "text/latex": [
       "\\begin{description*}\n",
       "\\item[FIPS] 0\n",
       "\\item[State.x] 0\n",
       "\\item[County.x] 0\n",
       "\\item[YPLL.Rate] 0\n",
       "\\item[State.y] 0\n",
       "\\item[County.y] 0\n",
       "\\item[Population] 0\n",
       "\\item[X..18] 0\n",
       "\\item[X65.and.over] 0\n",
       "\\item[African.American] 0\n",
       "\\item[Female] 0\n",
       "\\item[Rural] 0\n",
       "\\item[X.Diabetes] 0\n",
       "\\item[HIV.rate] 625\n",
       "\\item[Physical.Inactivity] 0\n",
       "\\item[mental.health.provider.rate] 0\n",
       "\\item[median.household.income] 0\n",
       "\\item[X..high.housing.costs] 0\n",
       "\\item[X..Free.lunch] 0\n",
       "\\item[X..child.Illiteracy] 0\n",
       "\\item[X..Drive.Alone] 0\n",
       "\\end{description*}\n"
      ],
      "text/markdown": [
       "FIPS\n",
       ":   0State.x\n",
       ":   0County.x\n",
       ":   0YPLL.Rate\n",
       ":   0State.y\n",
       ":   0County.y\n",
       ":   0Population\n",
       ":   0X..18\n",
       ":   0X65.and.over\n",
       ":   0African.American\n",
       ":   0Female\n",
       ":   0Rural\n",
       ":   0X.Diabetes\n",
       ":   0HIV.rate\n",
       ":   625Physical.Inactivity\n",
       ":   0mental.health.provider.rate\n",
       ":   0median.household.income\n",
       ":   0X..high.housing.costs\n",
       ":   0X..Free.lunch\n",
       ":   0X..child.Illiteracy\n",
       ":   0X..Drive.Alone\n",
       ":   0\n",
       "\n"
      ],
      "text/plain": [
       "                       FIPS                     State.x \n",
       "                          0                           0 \n",
       "                   County.x                   YPLL.Rate \n",
       "                          0                           0 \n",
       "                    State.y                    County.y \n",
       "                          0                           0 \n",
       "                 Population                       X..18 \n",
       "                          0                           0 \n",
       "               X65.and.over            African.American \n",
       "                          0                           0 \n",
       "                     Female                       Rural \n",
       "                          0                           0 \n",
       "                 X.Diabetes                    HIV.rate \n",
       "                          0                         625 \n",
       "        Physical.Inactivity mental.health.provider.rate \n",
       "                          0                           0 \n",
       "    median.household.income       X..high.housing.costs \n",
       "                          0                           0 \n",
       "              X..Free.lunch         X..child.Illiteracy \n",
       "                          0                           0 \n",
       "             X..Drive.Alone \n",
       "                          0 "
      ]
     },
     "metadata": {},
     "output_type": "display_data"
    }
   ],
   "source": [
    "apply(df, 2, function(x) length(which(x == \"\" | is.na(x) | x == \"NA\")))"
   ]
  },
  {
   "cell_type": "code",
   "execution_count": 10,
   "metadata": {},
   "outputs": [
    {
     "data": {
      "text/html": [
       "<ol class=list-inline>\n",
       "\t<li>13</li>\n",
       "\t<li>4534</li>\n",
       "</ol>\n"
      ],
      "text/latex": [
       "\\begin{enumerate*}\n",
       "\\item 13\n",
       "\\item 4534\n",
       "\\end{enumerate*}\n"
      ],
      "text/markdown": [
       "1. 13\n",
       "2. 4534\n",
       "\n",
       "\n"
      ],
      "text/plain": [
       "[1]   13 4534"
      ]
     },
     "metadata": {},
     "output_type": "display_data"
    },
    {
     "data": {
      "text/html": [
       "<dl class=dl-horizontal>\n",
       "\t<dt>0%</dt>\n",
       "\t\t<dd>13</dd>\n",
       "\t<dt>25%</dt>\n",
       "\t\t<dd>57</dd>\n",
       "\t<dt>50%</dt>\n",
       "\t\t<dd>98</dd>\n",
       "\t<dt>75%</dt>\n",
       "\t\t<dd>194</dd>\n",
       "\t<dt>100%</dt>\n",
       "\t\t<dd>4534</dd>\n",
       "</dl>\n"
      ],
      "text/latex": [
       "\\begin{description*}\n",
       "\\item[0\\textbackslash{}\\%] 13\n",
       "\\item[25\\textbackslash{}\\%] 57\n",
       "\\item[50\\textbackslash{}\\%] 98\n",
       "\\item[75\\textbackslash{}\\%] 194\n",
       "\\item[100\\textbackslash{}\\%] 4534\n",
       "\\end{description*}\n"
      ],
      "text/markdown": [
       "0%\n",
       ":   1325%\n",
       ":   5750%\n",
       ":   9875%\n",
       ":   194100%\n",
       ":   4534\n",
       "\n"
      ],
      "text/plain": [
       "  0%  25%  50%  75% 100% \n",
       "  13   57   98  194 4534 "
      ]
     },
     "metadata": {},
     "output_type": "display_data"
    }
   ],
   "source": [
    "# HIV rate is an important predictor. but 22% values are missing\n",
    "# so it is difficult to impute\n",
    "# we can bucket it into categories\n",
    "HIVRate <- df[!is.na(df$HIV.rate),'HIV.rate']\n",
    "range(HIVRate)\n",
    "quantile(HIVRate)\n",
    "\n",
    "df$HIV <- cut(df$HIV.rate, breaks = c(-Inf, 57, 98, 194, Inf), \n",
    "              labels = c(\"VeryLow\",\"Low\",\"High\",\"VeryHigh\"))\n",
    "df[is.na(df$HIV),'HIV'] <- 'NotAvail'"
   ]
  },
  {
   "cell_type": "code",
   "execution_count": 11,
   "metadata": {},
   "outputs": [
    {
     "data": {
      "text/html": [
       "<ol class=list-inline>\n",
       "\t<li>'FIPS'</li>\n",
       "\t<li>'State.x'</li>\n",
       "\t<li>'County.x'</li>\n",
       "\t<li>'YPLL.Rate'</li>\n",
       "\t<li>'State.y'</li>\n",
       "\t<li>'County.y'</li>\n",
       "\t<li>'Population'</li>\n",
       "\t<li>'X..18'</li>\n",
       "\t<li>'X65.and.over'</li>\n",
       "\t<li>'African.American'</li>\n",
       "\t<li>'Female'</li>\n",
       "\t<li>'Rural'</li>\n",
       "\t<li>'X.Diabetes'</li>\n",
       "\t<li>'HIV.rate'</li>\n",
       "\t<li>'Physical.Inactivity'</li>\n",
       "\t<li>'mental.health.provider.rate'</li>\n",
       "\t<li>'median.household.income'</li>\n",
       "\t<li>'X..high.housing.costs'</li>\n",
       "\t<li>'X..Free.lunch'</li>\n",
       "\t<li>'X..child.Illiteracy'</li>\n",
       "\t<li>'X..Drive.Alone'</li>\n",
       "\t<li>'HIV'</li>\n",
       "</ol>\n"
      ],
      "text/latex": [
       "\\begin{enumerate*}\n",
       "\\item 'FIPS'\n",
       "\\item 'State.x'\n",
       "\\item 'County.x'\n",
       "\\item 'YPLL.Rate'\n",
       "\\item 'State.y'\n",
       "\\item 'County.y'\n",
       "\\item 'Population'\n",
       "\\item 'X..18'\n",
       "\\item 'X65.and.over'\n",
       "\\item 'African.American'\n",
       "\\item 'Female'\n",
       "\\item 'Rural'\n",
       "\\item 'X.Diabetes'\n",
       "\\item 'HIV.rate'\n",
       "\\item 'Physical.Inactivity'\n",
       "\\item 'mental.health.provider.rate'\n",
       "\\item 'median.household.income'\n",
       "\\item 'X..high.housing.costs'\n",
       "\\item 'X..Free.lunch'\n",
       "\\item 'X..child.Illiteracy'\n",
       "\\item 'X..Drive.Alone'\n",
       "\\item 'HIV'\n",
       "\\end{enumerate*}\n"
      ],
      "text/markdown": [
       "1. 'FIPS'\n",
       "2. 'State.x'\n",
       "3. 'County.x'\n",
       "4. 'YPLL.Rate'\n",
       "5. 'State.y'\n",
       "6. 'County.y'\n",
       "7. 'Population'\n",
       "8. 'X..18'\n",
       "9. 'X65.and.over'\n",
       "10. 'African.American'\n",
       "11. 'Female'\n",
       "12. 'Rural'\n",
       "13. 'X.Diabetes'\n",
       "14. 'HIV.rate'\n",
       "15. 'Physical.Inactivity'\n",
       "16. 'mental.health.provider.rate'\n",
       "17. 'median.household.income'\n",
       "18. 'X..high.housing.costs'\n",
       "19. 'X..Free.lunch'\n",
       "20. 'X..child.Illiteracy'\n",
       "21. 'X..Drive.Alone'\n",
       "22. 'HIV'\n",
       "\n",
       "\n"
      ],
      "text/plain": [
       " [1] \"FIPS\"                        \"State.x\"                    \n",
       " [3] \"County.x\"                    \"YPLL.Rate\"                  \n",
       " [5] \"State.y\"                     \"County.y\"                   \n",
       " [7] \"Population\"                  \"X..18\"                      \n",
       " [9] \"X65.and.over\"                \"African.American\"           \n",
       "[11] \"Female\"                      \"Rural\"                      \n",
       "[13] \"X.Diabetes\"                  \"HIV.rate\"                   \n",
       "[15] \"Physical.Inactivity\"         \"mental.health.provider.rate\"\n",
       "[17] \"median.household.income\"     \"X..high.housing.costs\"      \n",
       "[19] \"X..Free.lunch\"               \"X..child.Illiteracy\"        \n",
       "[21] \"X..Drive.Alone\"              \"HIV\"                        "
      ]
     },
     "metadata": {},
     "output_type": "display_data"
    }
   ],
   "source": [
    "# Remove irrelevant columns\n",
    "names(df)\n",
    "excludeList <- c(\"FIPS\", \"State.x\", \"State.y\", \"County.x\", \"County.y\", \"HIV.rate\")\n",
    "includeList <- names(df[!names(df) %in% c(excludeList)])\n",
    "df <- df[,includeList]"
   ]
  },
  {
   "cell_type": "code",
   "execution_count": 12,
   "metadata": {},
   "outputs": [
    {
     "name": "stdout",
     "output_type": "stream",
     "text": [
      "'data.frame':\t2834 obs. of  16 variables:\n",
      " $ YPLL.Rate                  : int  9967 8322 9559 13283 8475 15433 12652 11720 11319 11753 ...\n",
      " $ Population                 : int  50756 179878 29737 21587 58345 10985 19964 114081 34320 24448 ...\n",
      " $ X..18                      : num  27.8 23.1 22.3 23.3 24.2 24.6 24.8 23.4 22.5 20.9 ...\n",
      " $ X65.and.over               : num  11.6 17 13.8 13.5 14.7 10.8 16.2 15 16.8 18.6 ...\n",
      " $ African.American           : num  18.4 10 46.6 22.3 2.1 68.2 41.9 20 37.8 5.6 ...\n",
      " $ Female                     : num  51.4 51 46.8 48 50.2 44.5 52.9 52.1 52.6 51.4 ...\n",
      " $ Rural                      : num  44.8 54.2 71.5 81.5 91 64.7 74.8 31 49.8 100 ...\n",
      " $ X.Diabetes                 : int  11 10 14 11 11 15 15 15 16 14 ...\n",
      " $ Physical.Inactivity        : int  33 25 35 37 35 32 35 32 36 37 ...\n",
      " $ mental.health.provider.rate: int  2 17 7 0 2 0 5 11 3 0 ...\n",
      " $ median.household.income    : int  51622 51957 30896 41076 46086 26980 31449 39997 35614 38028 ...\n",
      " $ X..high.housing.costs      : int  25 29 36 18 21 36 31 28 29 24 ...\n",
      " $ X..Free.lunch              : int  29 29 65 48 37 92 64 45 60 43 ...\n",
      " $ X..child.Illiteracy        : num  12.7 10.6 23.2 17.5 13.9 34.2 20.6 14.6 20.2 16.4 ...\n",
      " $ X..Drive.Alone             : int  86 83 82 83 80 83 87 86 85 77 ...\n",
      " $ HIV                        : Factor w/ 4 levels \"VeryLow\",\"Low\",..: 3 3 4 2 2 4 4 3 4 2 ...\n"
     ]
    },
    {
     "data": {
      "text/plain": [
       "   YPLL.Rate       Population          X..18        X65.and.over  \n",
       " Min.   : 3275   Min.   :   1485   Min.   :11.30   Min.   : 2.60  \n",
       " 1st Qu.: 6696   1st Qu.:  14371   1st Qu.:21.60   1st Qu.:12.70  \n",
       " Median : 8146   Median :  29840   Median :23.50   Median :15.00  \n",
       " Mean   : 8461   Mean   : 107552   Mean   :23.64   Mean   :15.18  \n",
       " 3rd Qu.: 9934   3rd Qu.:  75279   3rd Qu.:25.30   3rd Qu.:17.30  \n",
       " Max.   :24829   Max.   :9848011   Max.   :40.50   Max.   :34.30  \n",
       " African.American     Female          Rural          X.Diabetes   \n",
       " Min.   : 0.000   Min.   :25.10   Min.   :  0.00   Min.   : 3.00  \n",
       " 1st Qu.: 0.900   1st Qu.:49.80   1st Qu.: 33.50   1st Qu.: 9.00  \n",
       " Median : 2.900   Median :50.60   Median : 56.85   Median :10.00  \n",
       " Mean   : 9.867   Mean   :50.23   Mean   : 56.09   Mean   :10.01  \n",
       " 3rd Qu.:11.800   3rd Qu.:51.30   3rd Qu.: 78.97   3rd Qu.:11.00  \n",
       " Max.   :86.300   Max.   :58.00   Max.   :100.00   Max.   :18.00  \n",
       " Physical.Inactivity mental.health.provider.rate median.household.income\n",
       " Min.   :10.00       Min.   :   0.00             Min.   : 19829         \n",
       " 1st Qu.:24.00       1st Qu.:   0.00             1st Qu.: 36635         \n",
       " Median :27.00       Median :   7.00             Median : 42714         \n",
       " Mean   :27.11       Mean   :  19.18             Mean   : 44542         \n",
       " 3rd Qu.:30.00       3rd Qu.:  22.00             3rd Qu.: 49749         \n",
       " Max.   :45.00       Max.   :2618.00             Max.   :111582         \n",
       " X..high.housing.costs X..Free.lunch    X..child.Illiteracy X..Drive.Alone \n",
       " Min.   :11.00         Min.   :  0.00   Min.   : 3.90       Min.   : 7.00  \n",
       " 1st Qu.:25.00         1st Qu.: 26.00   1st Qu.: 8.50       1st Qu.:76.00  \n",
       " Median :29.00         Median : 37.00   Median :11.90       Median :79.00  \n",
       " Mean   :29.31         Mean   : 38.44   Mean   :13.07       Mean   :78.32  \n",
       " 3rd Qu.:33.00         3rd Qu.: 48.00   3rd Qu.:16.10       3rd Qu.:82.00  \n",
       " Max.   :56.00         Max.   :100.00   Max.   :64.60       Max.   :92.00  \n",
       "       HIV     \n",
       " VeryLow :553  \n",
       " Low     :555  \n",
       " High    :550  \n",
       " VeryHigh:551  \n",
       " NA's    :625  \n",
       "               "
      ]
     },
     "metadata": {},
     "output_type": "display_data"
    }
   ],
   "source": [
    "# Change factors to numeric\n",
    "df$X..18 <- as.numeric(as.character(df$X..18))\n",
    "df$X65.and.over <- as.numeric(as.character(df$X65.and.over))\n",
    "df$African.American <- as.numeric(as.character(df$African.American))\n",
    "df$Female <- as.numeric(as.character(df$Female))\n",
    "df$Rural <- as.numeric(as.character(df$Rural))\n",
    "df$X..child.Illiteracy <- as.numeric(as.character(df$X..child.Illiteracy))\n",
    "str(df)\n",
    "summary(df)"
   ]
  },
  {
   "cell_type": "code",
   "execution_count": 13,
   "metadata": {},
   "outputs": [
    {
     "data": {},
     "metadata": {},
     "output_type": "display_data"
    },
    {
     "data": {
      "image/png": "[encoded data removed]",
      "text/plain": [
       "plot without title"
      ]
     },
     "metadata": {},
     "output_type": "display_data"
    }
   ],
   "source": [
    "# select numeric columns\n",
    "numVars <- names(which(sapply(df, is.numeric)))\n",
    "# correlation matrix\n",
    "corr <- round(cor(df[,numVars]), 1)\n",
    "ggcorrplot(corr, hc.order = TRUE, \n",
    "           type = \"lower\", \n",
    "           lab = TRUE, \n",
    "           lab_size = 3, \n",
    "           method=\"circle\", \n",
    "           colors = c(\"tomato2\", \"white\", \"springgreen3\"), \n",
    "           title=\"Correlation matrix\", \n",
    "           ggtheme=theme_bw)"
   ]
  },
  {
   "cell_type": "code",
   "execution_count": 14,
   "metadata": {},
   "outputs": [
    {
     "name": "stderr",
     "output_type": "stream",
     "text": [
      "`stat_bin()` using `bins = 30`. Pick better value with `binwidth`.\n"
     ]
    },
    {
     "data": {},
     "metadata": {},
     "output_type": "display_data"
    },
    {
     "data": {
      "image/png": "[encoded data removed]",
      "text/plain": [
       "plot without title"
      ]
     },
     "metadata": {},
     "output_type": "display_data"
    }
   ],
   "source": [
    "# Histogram\n",
    "ggplot(df, aes(YPLL.Rate)) +  \n",
    "  geom_histogram(fill=\"tomato3\") +  \n",
    "  labs(title=\"Histogram of YPLL Rate\")\n",
    "# not highly skewed. No need to scale. We can verify it later."
   ]
  },
  {
   "cell_type": "code",
   "execution_count": 15,
   "metadata": {},
   "outputs": [
    {
     "data": {},
     "metadata": {},
     "output_type": "display_data"
    },
    {
     "data": {
      "image/png": "[encoded data removed]",
      "text/plain": [
       "plot without title"
      ]
     },
     "metadata": {},
     "output_type": "display_data"
    }
   ],
   "source": [
    "# Scatterplot\n",
    "ggplot(df, aes(x=Population, y=YPLL.Rate)) + \n",
    "  geom_point() + \n",
    "  geom_smooth(method=\"loess\", se=F) + scale_x_log10() +\n",
    "  labs(x=\"Population scaled to log 10\")\n",
    "# Outliers"
   ]
  },
  {
   "cell_type": "code",
   "execution_count": 16,
   "metadata": {
    "collapsed": true
   },
   "outputs": [],
   "source": [
    "# Dummy HIV variable\n",
    "df <- cbind(df, dummy(df$HIV))\n",
    "df <- df[,!names(df) %in% \"HIV\"]"
   ]
  },
  {
   "cell_type": "code",
   "execution_count": 17,
   "metadata": {
    "collapsed": true
   },
   "outputs": [],
   "source": [
    "# Assign x y vars\n",
    "yVar <- \"YPLL.Rate\"\n",
    "xVars <- names(df[!names(df) %in% c(yVar)])\n",
    "\n",
    "createModelFormula <- function(yVar, xVars, includeIntercept = TRUE){\n",
    "  if(includeIntercept){\n",
    "    modelForm <- as.formula(paste(yVar, \"~\", paste(xVars, collapse = '+ ')))\n",
    "  } else {\n",
    "    modelForm <- as.formula(paste(yVar, \"~\", paste(xVars, collapse = '+ '), -1))\n",
    "  }\n",
    "  return(modelForm)\n",
    "}"
   ]
  },
  {
   "cell_type": "code",
   "execution_count": 21,
   "metadata": {},
   "outputs": [
    {
     "data": {
      "text/plain": [
       "YPLL.Rate ~ Population + X..18 + X65.and.over + African.American + \n",
       "    Female + Rural + X.Diabetes + Physical.Inactivity + mental.health.provider.rate + \n",
       "    median.household.income + X..high.housing.costs + X..Free.lunch + \n",
       "    X..child.Illiteracy + X..Drive.Alone + NAVeryLow + NALow + \n",
       "    NAHigh + NAVeryHigh + NANA - 1\n",
       "<environment: 0x0000000022c9ee70>"
      ]
     },
     "metadata": {},
     "output_type": "display_data"
    },
    {
     "data": {
      "text/plain": [
       "\n",
       "Call:\n",
       "lm(formula = modelForm, data = df)\n",
       "\n",
       "Residuals:\n",
       "    Min      1Q  Median      3Q     Max \n",
       "-5076.9  -833.8   -95.6   705.1 11064.9 \n",
       "\n",
       "Coefficients:\n",
       "                                 Estimate    Std. Error t value\n",
       "Population                    -0.00021906    0.00009676  -2.264\n",
       "X..18                         87.86276811   11.97182726   7.339\n",
       "X65.and.over                 -20.18209330   10.94826598  -1.843\n",
       "African.American              -2.03624212    3.45369035  -0.590\n",
       "Female                        -5.59661428   15.40356529  -0.363\n",
       "Rural                          5.39630494    1.21619807   4.437\n",
       "X.Diabetes                   307.54548665   26.33322345  11.679\n",
       "Physical.Inactivity           83.59794555    9.53463728   8.768\n",
       "mental.health.provider.rate   -0.99053873    0.44923676  -2.205\n",
       "median.household.income       -0.04992777    0.00426563 -11.705\n",
       "X..high.housing.costs          3.55465583    5.78602292   0.614\n",
       "X..Free.lunch                 46.95881427    3.30803546  14.195\n",
       "X..child.Illiteracy          -55.25836847    7.01888792  -7.873\n",
       "X..Drive.Alone               -38.14721949    4.74009814  -8.048\n",
       "NAVeryLow                   5040.67560934  861.59357942   5.850\n",
       "NALow                       5449.67325888  862.45739885   6.319\n",
       "NAHigh                      5641.13331657  861.62189238   6.547\n",
       "NAVeryHigh                  5919.26078870  853.81754207   6.933\n",
       "NANA                        5060.68439483  850.52594974   5.950\n",
       "                                        Pr(>|t|)    \n",
       "Population                                0.0237 *  \n",
       "X..18                        0.00000000000027989 ***\n",
       "X65.and.over                              0.0654 .  \n",
       "African.American                          0.5555    \n",
       "Female                                    0.7164    \n",
       "Rural                        0.00000947121182251 ***\n",
       "X.Diabetes                  < 0.0000000000000002 ***\n",
       "Physical.Inactivity         < 0.0000000000000002 ***\n",
       "mental.health.provider.rate               0.0275 *  \n",
       "median.household.income     < 0.0000000000000002 ***\n",
       "X..high.housing.costs                     0.5390    \n",
       "X..Free.lunch               < 0.0000000000000002 ***\n",
       "X..child.Illiteracy          0.00000000000000491 ***\n",
       "X..Drive.Alone               0.00000000000000123 ***\n",
       "NAVeryLow                    0.00000000546931041 ***\n",
       "NALow                        0.00000000030546362 ***\n",
       "NAHigh                       0.00000000006946332 ***\n",
       "NAVeryHigh                   0.00000000000509994 ***\n",
       "NANA                         0.00000000301174339 ***\n",
       "---\n",
       "Signif. codes:  0 '***' 0.001 '**' 0.01 '*' 0.05 '.' 0.1 ' ' 1\n",
       "\n",
       "Residual standard error: 1443 on 2815 degrees of freedom\n",
       "Multiple R-squared:  0.9734,\tAdjusted R-squared:  0.9732 \n",
       "F-statistic:  5414 on 19 and 2815 DF,  p-value: < 0.00000000000000022\n"
      ]
     },
     "metadata": {},
     "output_type": "display_data"
    }
   ],
   "source": [
    "# Fit linear model with all variables\n",
    "modelForm <- createModelFormula(yVar = yVar, xVars = xVars, includeIntercept = FALSE)\n",
    "modelForm\n",
    "model <- lm(modelForm, data = df)\n",
    "summary(model) "
   ]
  },
  {
   "cell_type": "code",
   "execution_count": 22,
   "metadata": {},
   "outputs": [
    {
     "name": "stdout",
     "output_type": "stream",
     "text": [
      "Start:  AIC=41251.92\n",
      "YPLL.Rate ~ Population + X..18 + X65.and.over + African.American + \n",
      "    Female + Rural + X.Diabetes + Physical.Inactivity + mental.health.provider.rate + \n",
      "    median.household.income + X..high.housing.costs + X..Free.lunch + \n",
      "    X..child.Illiteracy + X..Drive.Alone + NAVeryLow + NALow + \n",
      "    NAHigh + NAVeryHigh + NANA - 1\n",
      "\n",
      "                              Df Sum of Sq        RSS   AIC\n",
      "- Female                       1    274998 5864353808 41250\n",
      "- African.American             1    724125 5864802934 41250\n",
      "- X..high.housing.costs        1    786242 5864865052 41250\n",
      "<none>                                     5864078810 41252\n",
      "- X65.and.over                 1   7078857 5871157667 41253\n",
      "- mental.health.provider.rate  1  10127768 5874206578 41255\n",
      "- Population                   1  10676710 5874755520 41255\n",
      "- Rural                        1  41011509 5905090318 41270\n",
      "- NAVeryLow                    1  71300732 5935379542 41284\n",
      "- NANA                         1  73750466 5937829276 41285\n",
      "- NALow                        1  83173892 5947252702 41290\n",
      "- NAHigh                       1  89293671 5953372480 41293\n",
      "- NAVeryHigh                   1 100121236 5964200045 41298\n",
      "- X..18                        1 112204501 5976283311 41304\n",
      "- X..child.Illiteracy          1 129116249 5993195059 41312\n",
      "- X..Drive.Alone               1 134918812 5998997622 41314\n",
      "- Physical.Inactivity          1 160141634 6024220444 41326\n",
      "- X.Diabetes                   1 284139797 6148218607 41384\n",
      "- median.household.income      1 285390394 6149469204 41385\n",
      "- X..Free.lunch                1 419773802 6283852611 41446\n",
      "\n",
      "Step:  AIC=41250.05\n",
      "YPLL.Rate ~ Population + X..18 + X65.and.over + African.American + \n",
      "    Rural + X.Diabetes + Physical.Inactivity + mental.health.provider.rate + \n",
      "    median.household.income + X..high.housing.costs + X..Free.lunch + \n",
      "    X..child.Illiteracy + X..Drive.Alone + NAVeryLow + NALow + \n",
      "    NAHigh + NAVeryHigh + NANA - 1\n",
      "\n",
      "                              Df Sum of Sq        RSS   AIC\n",
      "- X..high.housing.costs        1    626302 5864980110 41248\n",
      "- African.American             1    823759 5865177567 41248\n",
      "<none>                                     5864353808 41250\n",
      "+ Female                       1    274998 5864078810 41252\n",
      "- X65.and.over                 1   9100214 5873454022 41252\n",
      "- mental.health.provider.rate  1  10512015 5874865823 41253\n",
      "- Population                   1  11019514 5875373322 41253\n",
      "- Rural                        1  43307148 5907660956 41269\n",
      "- NAVeryLow                    1 111290221 5975644029 41301\n",
      "- NANA                         1 115749555 5980103362 41303\n",
      "- X..18                        1 125641180 5989994988 41308\n",
      "- NALow                        1 130417081 5994770888 41310\n",
      "- X..child.Illiteracy          1 133780247 5998134055 41312\n",
      "- X..Drive.Alone               1 134990169 5999343977 41313\n",
      "- NAHigh                       1 139213460 6003567268 41315\n",
      "- NAVeryHigh                   1 154662773 6019016581 41322\n",
      "- Physical.Inactivity          1 159869731 6024223538 41324\n",
      "- median.household.income      1 285125021 6149478829 41383\n",
      "- X.Diabetes                   1 291944775 6156298582 41386\n",
      "- X..Free.lunch                1 421046365 6285400173 41445\n",
      "\n",
      "Step:  AIC=41248.35\n",
      "YPLL.Rate ~ Population + X..18 + X65.and.over + African.American + \n",
      "    Rural + X.Diabetes + Physical.Inactivity + mental.health.provider.rate + \n",
      "    median.household.income + X..Free.lunch + X..child.Illiteracy + \n",
      "    X..Drive.Alone + NAVeryLow + NALow + NAHigh + NAVeryHigh + \n",
      "    NANA - 1\n",
      "\n",
      "                              Df Sum of Sq        RSS   AIC\n",
      "- African.American             1    669137 5865649247 41247\n",
      "<none>                                     5864980110 41248\n",
      "+ X..high.housing.costs        1    626302 5864353808 41250\n",
      "+ Female                       1    115058 5864865052 41250\n",
      "- X65.and.over                 1   9619795 5874599905 41251\n",
      "- mental.health.provider.rate  1  10294739 5875274849 41251\n",
      "- Population                   1  10460674 5875440784 41251\n",
      "- Rural                        1  43041885 5908021995 41267\n",
      "- X..18                        1 127597298 5992577408 41307\n",
      "- X..child.Illiteracy          1 133162979 5998143089 41310\n",
      "- X..Drive.Alone               1 137644177 6002624287 41312\n",
      "- NAVeryLow                    1 155552809 6020532919 41321\n",
      "- NANA                         1 159090868 6024070978 41322\n",
      "- Physical.Inactivity          1 168815964 6033796074 41327\n",
      "- NALow                        1 179776767 6044756877 41332\n",
      "- NAHigh                       1 192275350 6057255460 41338\n",
      "- NAVeryHigh                   1 215227409 6080207519 41348\n",
      "- median.household.income      1 284508647 6149488757 41381\n",
      "- X.Diabetes                   1 292304750 6157284860 41384\n",
      "- X..Free.lunch                1 436228857 6301208967 41450\n",
      "\n",
      "Step:  AIC=41246.68\n",
      "YPLL.Rate ~ Population + X..18 + X65.and.over + Rural + X.Diabetes + \n",
      "    Physical.Inactivity + mental.health.provider.rate + median.household.income + \n",
      "    X..Free.lunch + X..child.Illiteracy + X..Drive.Alone + NAVeryLow + \n",
      "    NALow + NAHigh + NAVeryHigh + NANA - 1\n",
      "\n",
      "                              Df Sum of Sq        RSS   AIC\n",
      "<none>                                     5865649247 41247\n",
      "+ African.American             1    669137 5864980110 41248\n",
      "+ X..high.housing.costs        1    471680 5865177567 41248\n",
      "+ Female                       1    191753 5865457495 41249\n",
      "- X65.and.over                 1   8961115 5874610362 41249\n",
      "- Population                   1   9935710 5875584958 41249\n",
      "- mental.health.provider.rate  1  10032794 5875682042 41250\n",
      "- Rural                        1  43134852 5908784099 41265\n",
      "- X..18                        1 131264619 5996913866 41307\n",
      "- X..child.Illiteracy          1 136036327 6001685574 41310\n",
      "- X..Drive.Alone               1 138623310 6004272557 41311\n",
      "- NAVeryLow                    1 159692814 6025342061 41321\n",
      "- NANA                         1 162839804 6028489051 41322\n",
      "- Physical.Inactivity          1 176027582 6041676830 41328\n",
      "- NALow                        1 184020241 6049669489 41332\n",
      "- NAHigh                       1 194789405 6060438652 41337\n",
      "- NAVeryHigh                   1 215308113 6080957360 41347\n",
      "- median.household.income      1 294218902 6159868149 41383\n",
      "- X.Diabetes                   1 329357361 6195006608 41399\n",
      "- X..Free.lunch                1 463250858 6328900106 41460\n"
     ]
    },
    {
     "data": {
      "text/plain": [
       "\n",
       "Call:\n",
       "lm(formula = YPLL.Rate ~ Population + X..18 + X65.and.over + \n",
       "    Rural + X.Diabetes + Physical.Inactivity + mental.health.provider.rate + \n",
       "    median.household.income + X..Free.lunch + X..child.Illiteracy + \n",
       "    X..Drive.Alone + NAVeryLow + NALow + NAHigh + NAVeryHigh + \n",
       "    NANA - 1, data = df)\n",
       "\n",
       "Residuals:\n",
       "    Min      1Q  Median      3Q     Max \n",
       "-5045.2  -834.0   -95.0   711.6 11140.8 \n",
       "\n",
       "Coefficients:\n",
       "                                 Estimate    Std. Error t value\n",
       "Population                    -0.00020595    0.00009426  -2.185\n",
       "X..18                         85.63552781   10.78369730   7.941\n",
       "X65.and.over                 -20.69702141    9.97503399  -2.075\n",
       "Rural                          5.33698621    1.17238290   4.552\n",
       "X.Diabetes                   300.27083808   23.87080249  12.579\n",
       "Physical.Inactivity           82.66839722    8.98952420   9.196\n",
       "mental.health.provider.rate   -0.97929392    0.44605628  -2.195\n",
       "median.household.income       -0.05013239    0.00421668 -11.889\n",
       "X..Free.lunch                 46.75793814    3.13425831  14.918\n",
       "X..child.Illiteracy          -54.78398512    6.77662920  -8.084\n",
       "X..Drive.Alone               -38.48933485    4.71639125  -8.161\n",
       "NAVeryLow                   5051.20821558  576.68696428   8.759\n",
       "NALow                       5456.59550420  580.33199316   9.403\n",
       "NAHigh                      5639.98647996  583.01932158   9.674\n",
       "NAVeryHigh                  5902.53246369  580.35768220  10.171\n",
       "NANA                        5063.53570255  572.48108402   8.845\n",
       "                                        Pr(>|t|)    \n",
       "Population                                0.0290 *  \n",
       "X..18                       0.000000000000002866 ***\n",
       "X65.and.over                              0.0381 *  \n",
       "Rural                       0.000005532348441786 ***\n",
       "X.Diabetes                  < 0.0000000000000002 ***\n",
       "Physical.Inactivity         < 0.0000000000000002 ***\n",
       "mental.health.provider.rate               0.0282 *  \n",
       "median.household.income     < 0.0000000000000002 ***\n",
       "X..Free.lunch               < 0.0000000000000002 ***\n",
       "X..child.Illiteracy         0.000000000000000919 ***\n",
       "X..Drive.Alone              0.000000000000000496 ***\n",
       "NAVeryLow                   < 0.0000000000000002 ***\n",
       "NALow                       < 0.0000000000000002 ***\n",
       "NAHigh                      < 0.0000000000000002 ***\n",
       "NAVeryHigh                  < 0.0000000000000002 ***\n",
       "NANA                        < 0.0000000000000002 ***\n",
       "---\n",
       "Signif. codes:  0 '***' 0.001 '**' 0.01 '*' 0.05 '.' 0.1 ' ' 1\n",
       "\n",
       "Residual standard error: 1443 on 2818 degrees of freedom\n",
       "Multiple R-squared:  0.9734,\tAdjusted R-squared:  0.9732 \n",
       "F-statistic:  6434 on 16 and 2818 DF,  p-value: < 0.00000000000000022\n"
      ]
     },
     "metadata": {},
     "output_type": "display_data"
    }
   ],
   "source": [
    "# Test stepwise\n",
    "model_step <- step(model, direction=\"both\")\n",
    "summary(model_step)"
   ]
  }
 ],
 "metadata": {
  "kernelspec": {
   "display_name": "R",
   "language": "R",
   "name": "ir"
  },
  "language_info": {
   "codemirror_mode": "r",
   "file_extension": ".r",
   "mimetype": "text/x-r-source",
   "name": "R",
   "pygments_lexer": "r",
   "version": "3.4.1"
  }
 },
 "nbformat": 4,
 "nbformat_minor": 2
}
